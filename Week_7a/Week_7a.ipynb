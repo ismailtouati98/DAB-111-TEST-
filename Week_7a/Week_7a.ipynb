{
 "cells": [
  {
   "cell_type": "markdown",
   "id": "346d8e02-3d49-4aa0-b37d-60b89f853fc4",
   "metadata": {},
   "source": [
    "# Week 7: Functions *cont'd*"
   ]
  },
  {
   "cell_type": "markdown",
   "id": "0d9a3596-a39c-4ee7-8e01-cf79334278d7",
   "metadata": {},
   "source": [
    "## Varible-length argument lists"
   ]
  },
  {
   "cell_type": "markdown",
   "id": "e4483137-2fa6-4374-a358-4a30d851cbc2",
   "metadata": {},
   "source": [
    "#### Argument tuple packing"
   ]
  },
  {
   "cell_type": "code",
   "execution_count": null,
   "id": "0183e3ed-96a1-4fc6-b006-59ef6f81ca6d",
   "metadata": {
    "tags": []
   },
   "outputs": [],
   "source": [
    "def avg(*args):\n",
    "    print(type(args))\n",
    "    for el in args:\n",
    "        print (el)"
   ]
  },
  {
   "cell_type": "code",
   "execution_count": null,
   "id": "6bd11c64-a573-4c92-82a6-7456cced5dfc",
   "metadata": {
    "tags": []
   },
   "outputs": [],
   "source": [
    "def avg(*args):\n",
    "    total = 0\n",
    "    \n",
    "    for el in args:\n",
    "        total += el\n",
    "    return total / len (args)"
   ]
  },
  {
   "cell_type": "code",
   "execution_count": null,
   "id": "bd7e179e-2fea-4787-a271-6fdfac1c65ff",
   "metadata": {
    "tags": []
   },
   "outputs": [],
   "source": [
    "avg (1,2,3.5,4,5,6,8,9.5)"
   ]
  },
  {
   "cell_type": "markdown",
   "id": "c374ba98-144d-4966-8798-fa797ac3e927",
   "metadata": {},
   "source": [
    "#### Argument Tuple Unpacking"
   ]
  },
  {
   "cell_type": "code",
   "execution_count": null,
   "id": "b93b7226-2901-43bf-8712-f4e331825571",
   "metadata": {
    "tags": []
   },
   "outputs": [],
   "source": [
    "x = [9,8,7]\n",
    "\n",
    "avg(*x)  #avg(9,8,7)  / as you see x is a list if you run it you get error but star is gonna replace the list with a tuple *(packing and unpacking)"
   ]
  },
  {
   "cell_type": "markdown",
   "id": "9838d055-68b6-488c-b577-f4eecd90d5d3",
   "metadata": {},
   "source": [
    "#### Argument Dictionary Packing"
   ]
  },
  {
   "cell_type": "code",
   "execution_count": null,
   "id": "bc8e4650-8b68-4fc1-a786-59ddfbd39ab2",
   "metadata": {
    "tags": []
   },
   "outputs": [],
   "source": [
    "#pack and unoack dict\n",
    "\n",
    "def f(**kwargs):\n",
    "    print(type(kwargs))\n",
    "    for k,v in kwargs .items():\n",
    "        print(k,v)"
   ]
  },
  {
   "cell_type": "code",
   "execution_count": null,
   "id": "c74fa4c7-43b3-4a21-b136-8355fa4be512",
   "metadata": {
    "tags": []
   },
   "outputs": [],
   "source": [
    "f(a=1 , b=2, c=3)"
   ]
  },
  {
   "cell_type": "code",
   "execution_count": null,
   "id": "fd29fef2-086a-4c57-9370-2aff0649548a",
   "metadata": {},
   "outputs": [],
   "source": []
  },
  {
   "cell_type": "markdown",
   "id": "8575b871-e8b1-43d9-80f5-dbbd1d015c0b",
   "metadata": {},
   "source": [
    "#### Argument Dictionary Unpacking"
   ]
  },
  {
   "cell_type": "code",
   "execution_count": null,
   "id": "4f10385d-d9d5-4a4d-8ff7-da7ea3237043",
   "metadata": {
    "tags": []
   },
   "outputs": [],
   "source": [
    "d = {'a':1 , 'b':2 , 'c':3}\n",
    "\n",
    "f(**d)"
   ]
  },
  {
   "cell_type": "markdown",
   "id": "563503c6-4611-40c6-85e9-84c6cb6ff94b",
   "metadata": {},
   "source": [
    "#### Multiple Unpackings in a Python Function Call"
   ]
  },
  {
   "cell_type": "code",
   "execution_count": null,
   "id": "0701effc-5e46-4ae6-b0be-9a0da5ecd7b6",
   "metadata": {
    "tags": []
   },
   "outputs": [],
   "source": [
    "x = [1,2,3,4]\n",
    "y = [1,2,3,4]\n",
    "\n",
    "avg (*x,*y) "
   ]
  },
  {
   "cell_type": "code",
   "execution_count": null,
   "id": "d00de7c2-33d5-40d1-b884-616fd45ec039",
   "metadata": {},
   "outputs": [],
   "source": []
  },
  {
   "cell_type": "code",
   "execution_count": null,
   "id": "36c6f6ad-d10e-42b8-8d1f-d544935449c5",
   "metadata": {},
   "outputs": [],
   "source": []
  },
  {
   "cell_type": "code",
   "execution_count": null,
   "id": "d6a3e103-0e94-4cf8-9465-39beaf1d7350",
   "metadata": {},
   "outputs": [],
   "source": []
  },
  {
   "cell_type": "markdown",
   "id": "aaa77f59-e9b3-4d83-a8e4-ffb354060d38",
   "metadata": {
    "tags": []
   },
   "source": [
    "### Docstrings ([PEP257](https://peps.python.org/pep-0257/))\n",
    "\n",
    "To create a docstring: \n",
    " - always use `\"\"\"triple double quotes\"\"\"` \n",
    "     - use `r\"\"\"raw triple double quotes\"\"\"` if you use any backslashes\n",
    "\n",
    "There are two types:\n",
    " - one-line docstrings\n",
    " - multi-line docstrings"
   ]
  },
  {
   "cell_type": "markdown",
   "id": "a26a7f8c-8c7d-45bb-b782-b7e057575288",
   "metadata": {},
   "source": [
    "#### One-line docstrings\n",
    "\n",
    "- triple quotes are used even though the string fits on one line. This makes it easy to later expand it.\n",
    "    - one line is a maximum of 72 characters\n",
    "- closing quotes are on the same line as the opening quotes. This looks better for one-liners.\n",
    "- no blank line either before or after the docstring.\n",
    "- the docstring is a phrase ending in a period. It prescribes the function or method’s effect as a command (“Do this”, “Return that”), not as a description\n",
    "- should NOT be a “signature” reiterating the function/method parameters (which can be obtained by introspection). Don’t do:\n",
    "\n",
    "```python\n",
    "def function(a, b):\n",
    "    \"\"\"function(a, b) -> list\"\"\"\n",
    "    <statement(s)>\n",
    "```\n",
    "- the nature of the return value cannot be determined by introspection, so it should be mentioned. The preferred form for such a docstring would be something like:\n",
    "\n",
    "```python\n",
    "def function(a, b):\n",
    "    \"\"\"Do X and return a list.\"\"\"\n",
    "    <statement(s)>\n",
    "```"
   ]
  },
  {
   "cell_type": "markdown",
   "id": "d662d0bb-938b-4044-afc2-d0470105d632",
   "metadata": {},
   "source": [
    "#### Multi-line docstrings \n",
    "\n",
    " - consist of a summary line just like a one-line docstring, followed by a blank line, followed by a more elaborate description. \n",
    "     - important that it fits on one line and is separated from the rest of the docstring by a blank line \n",
    "     - the summary line may be on the same line as the opening quotes or on the next line\n",
    " - summarize function behavior\n",
    " - document:  \n",
    "     - arguments\n",
    "     - return value(s)\n",
    "     - side effects \n",
    "     - exceptions raised \n",
    "     - restrictions on when it can be called (all if applicable)\n",
    "     - optional arguments should be indicated \n",
    "     - whether keyword arguments are part of the interface\n",
    "     \n",
    "```python\n",
    "def complex(real=0.0, imag=0.0):\n",
    "    \"\"\"Form a complex number.\n",
    "\n",
    "    Keyword arguments:\n",
    "    real -- the real part (default 0.0)\n",
    "    imag -- the imaginary part (default 0.0)\n",
    "    \"\"\"\n",
    "    if imag == 0.0 and real == 0.0:\n",
    "        return complex_zero\n",
    "    ...\n",
    "```"
   ]
  },
  {
   "cell_type": "code",
   "execution_count": null,
   "id": "bab42fa1-04da-4551-96d4-ae17ecbf69fe",
   "metadata": {},
   "outputs": [],
   "source": []
  },
  {
   "cell_type": "markdown",
   "id": "3fb37f2c-8c23-4c6b-99b2-2ceaa849f0e9",
   "metadata": {},
   "source": [
    "### Function annotations (type hinting)"
   ]
  },
  {
   "cell_type": "code",
   "execution_count": null,
   "id": "56d703c9-a2a6-4c57-9327-a012593edfd4",
   "metadata": {
    "tags": []
   },
   "outputs": [],
   "source": []
  },
  {
   "cell_type": "markdown",
   "id": "6bf5072e-b8b3-46e5-a99b-9904a57cec4f",
   "metadata": {},
   "source": [
    "## Lambda functions"
   ]
  },
  {
   "cell_type": "code",
   "execution_count": null,
   "id": "83740838-9c97-4cd8-b44f-f1e59a4cb602",
   "metadata": {
    "tags": []
   },
   "outputs": [],
   "source": []
  },
  {
   "cell_type": "markdown",
   "id": "095c695d-e851-4964-8410-88daafcd1fab",
   "metadata": {},
   "source": [
    "## Exercise\n",
    "\n",
    "The plan is to create a double [Caesar cipher](https://en.wikipedia.org/wiki/Caesar_cipher). First we'll create a function that creates a single Caesar cipher. \n",
    "\n",
    "Some things that may come in useful:\n",
    " - the `%` operator\n",
    " - `.find`\n",
    " - `enumerate`\n",
    " - the alphabet in the `string` package\n",
    " - spaces remain as spaces\n",
    "\n",
    "After completing the single Caesar cipher, move on to building a function that will create a double Caesar cipher: every other letter is encoded with one cipher and the remaining letters are encoded with another. "
   ]
  },
  {
   "cell_type": "code",
   "execution_count": null,
   "id": "3de881e7-07b6-4ea0-b185-6b014fc48b10",
   "metadata": {
    "tags": []
   },
   "outputs": [],
   "source": [
    "#give me name dog coded to caesar cipher with shifted number of 5 \n",
    "import string as str\n",
    "\n",
    "def our_code(txt,shift):\n",
    "    if d in txt"
   ]
  },
  {
   "cell_type": "code",
   "execution_count": 12,
   "id": "dc8ba75a-ffdf-430e-a76f-42f2cd2fd0c8",
   "metadata": {
    "tags": []
   },
   "outputs": [],
   "source": [
    "def caesar_cipher(txt, shift):\n",
    "    encoded_txt=\"\"\n",
    "    \n",
    "    for char in txt:\n",
    "        if char.lower():\n",
    "           \n",
    "        \n",
    "            shifted_char = (ord(char) + shift -  97) % 26 \n",
    "            encoded_txt += chr(shifted_char + 97)\n",
    "    return encoded_txt"
   ]
  },
  {
   "cell_type": "code",
   "execution_count": 15,
   "id": "c55644a6-c7ea-4a73-aefa-c562b9c682d4",
   "metadata": {
    "tags": []
   },
   "outputs": [
    {
     "name": "stdout",
     "output_type": "stream",
     "text": [
      "rdsitl\n"
     ]
    }
   ],
   "source": [
    "input_txt = \"my dog\"\n",
    "shifted_chr = 5\n",
    "\n",
    "encoded_txt = caesar_cipher(input_txt, shift_chr)\n",
    "print(encoded_txt)\n"
   ]
  },
  {
   "cell_type": "code",
   "execution_count": null,
   "id": "54264a1e-c151-46ad-b35f-f55fd6ed65b5",
   "metadata": {},
   "outputs": [],
   "source": []
  },
  {
   "cell_type": "code",
   "execution_count": null,
   "id": "3173ab97-c62b-47ee-bc13-e73900f91294",
   "metadata": {},
   "outputs": [],
   "source": []
  }
 ],
 "metadata": {
  "kernelspec": {
   "display_name": "Python 3 (ipykernel)",
   "language": "python",
   "name": "python3"
  },
  "language_info": {
   "codemirror_mode": {
    "name": "ipython",
    "version": 3
   },
   "file_extension": ".py",
   "mimetype": "text/x-python",
   "name": "python",
   "nbconvert_exporter": "python",
   "pygments_lexer": "ipython3",
   "version": "3.11.4"
  }
 },
 "nbformat": 4,
 "nbformat_minor": 5
}
